{
 "cells": [
  {
   "cell_type": "code",
   "execution_count": 1,
   "id": "c5fe1431-231c-42a2-8911-26e15dd1e226",
   "metadata": {},
   "outputs": [],
   "source": [
    "import Quick\n",
    "from Bubble import bubble_sort\n",
    "from Selection import selection_sort\n",
    "from Insertion import insertion_sort\n",
    "from Merge import merge_sort\n",
    "from Quick import quick_sort\n",
    "from timeit import timeit\n",
    "import random\n",
    "import matplotlib.pyplot as plt"
   ]
  },
  {
   "cell_type": "code",
   "execution_count": 2,
   "id": "79f259ff-948d-49e1-b4fc-9b483c14dde8",
   "metadata": {},
   "outputs": [
    {
     "name": "stdout",
     "output_type": "stream",
     "text": [
      "[114, 634, 524, 99, 238, 881, 995, 505, 181, 960]\n",
      "[252, 228, 690, 925, 553, 687, 762, 808, 185, 516]\n"
     ]
    }
   ],
   "source": [
    "\n",
    "vetor1000 = [random.randint(0, 1000) for _ in range(1000)]\n",
    "vetor10000 = [random.randint(0, 1000) for _ in range(10000)]\n",
    "vetor100000 = [random.randint(0, 1000) for _ in range(100000)]\n",
    "\n",
    "print(vetor1000[:10])\n",
    "\n",
    "print(vetor1000[::-1][:10])\n",
    "\n"
   ]
  },
  {
   "cell_type": "markdown",
   "id": "8d7debe8-c178-49c0-857c-f68106d84d1a",
   "metadata": {},
   "source": [
    "# Quicksort\n",
    "---"
   ]
  },
  {
   "cell_type": "code",
   "execution_count": 3,
   "id": "33f7e22c-d2e0-4ea8-82e6-f093a217b7ef",
   "metadata": {},
   "outputs": [
    {
     "name": "stdout",
     "output_type": "stream",
     "text": [
      "0.17761100000001306\n"
     ]
    }
   ],
   "source": [
    "tempoQuick = timeit('quick_sort(vetor100000.copy())', 'from __main__ import quick_sort, vetor100000', number=1)\n",
    "print(tempoQuick)"
   ]
  },
  {
   "cell_type": "markdown",
   "id": "ac8ab2d4-27a3-410b-aa82-e4d2bc63e70c",
   "metadata": {},
   "source": [
    "# Mergesort\n",
    "---"
   ]
  },
  {
   "cell_type": "code",
   "execution_count": 4,
   "id": "30ee9663-6572-4a64-849d-2682d0be5a32",
   "metadata": {},
   "outputs": [
    {
     "name": "stdout",
     "output_type": "stream",
     "text": [
      "0.2913965999999846\n"
     ]
    }
   ],
   "source": [
    "tempoMerge = timeit('merge_sort(vetor100000.copy())', 'from __main__ import merge_sort, vetor100000', number=1)\n",
    "print(tempoMerge)"
   ]
  },
  {
   "cell_type": "markdown",
   "id": "e1329996-aec8-49be-9fbe-a8db12cc7e9b",
   "metadata": {},
   "source": [
    "# Selectionsort\n",
    "---"
   ]
  },
  {
   "cell_type": "code",
   "execution_count": null,
   "id": "a99f49c2-10db-463c-b714-d723074524f4",
   "metadata": {},
   "outputs": [],
   "source": [
    "tempoSelection = timeit('selection_sort(vetor100000.copy())', 'from __main__ import selection_sort, vetor100000', number=1)\n",
    "print(tempoSelection)"
   ]
  },
  {
   "cell_type": "markdown",
   "id": "fadc2edd-c1fa-4db9-8356-eb5bcf820972",
   "metadata": {},
   "source": [
    "# Insertionsort\n",
    "---"
   ]
  },
  {
   "cell_type": "code",
   "execution_count": 5,
   "id": "89a79912-0fa0-42d2-80b4-e48ba1b75162",
   "metadata": {},
   "outputs": [
    {
     "name": "stdout",
     "output_type": "stream",
     "text": [
      "356.8131449\n"
     ]
    }
   ],
   "source": [
    "tempoInsertion = timeit('insertion_sort(vetor100000.copy())', 'from __main__ import insertion_sort, vetor100000', number=1)\n",
    "print(tempoInsertion)"
   ]
  },
  {
   "cell_type": "markdown",
   "id": "3c6b2801-bb3f-4d6f-a113-79b6b48e632a",
   "metadata": {
    "tags": []
   },
   "source": [
    "# Bubblesort\n",
    "---"
   ]
  },
  {
   "cell_type": "code",
   "execution_count": 7,
   "id": "cab37448-e64a-436b-856d-60db023c73f7",
   "metadata": {},
   "outputs": [
    {
     "name": "stdout",
     "output_type": "stream",
     "text": [
      "1141.2956364\n"
     ]
    }
   ],
   "source": [
    "tempoBubble = timeit('bubble_sort(vetor100000.copy())', 'from __main__ import bubble_sort, vetor100000', number=1)\n",
    "print(tempoBubble)"
   ]
  },
  {
   "cell_type": "markdown",
   "id": "861fb4dd-8b17-48c0-8560-4a6ea1aa2011",
   "metadata": {},
   "source": [
    "# Relatórios Vetor Aleatório\n",
    "---"
   ]
  },
  {
   "cell_type": "code",
   "execution_count": 9,
   "id": "458e1693-8b71-42e2-ac74-470b8c11b7ed",
   "metadata": {},
   "outputs": [
    {
     "data": {
      "image/png": "[encoded data removed]",
      "text/plain": [
       "<Figure size 432x288 with 1 Axes>"
      ]
     },
     "metadata": {
      "needs_background": "light"
     },
     "output_type": "display_data"
    }
   ],
   "source": [
    "listX = ['Quick','Merge', 'Selection', 'Insertion', 'Bubble']\n",
    "listY = [tempoQuick,tempoMerge,tempoSelection, tempoInsertion, tempoBubble ]\n",
    "plt.bar(listX, listY)\n",
    "plt.title('Comparativo de tempo vetor de tamanho 100.000 aleatório')\n",
    "plt.xlabel('Algoritmos')\n",
    "plt.ylabel('Tempo (s)')\n",
    "plt.show()"
   ]
  },
  {
   "cell_type": "code",
   "execution_count": null,
   "id": "d349d492-2d44-42d9-9b2a-2483a97e56ba",
   "metadata": {},
   "outputs": [],
   "source": []
  }
 ],
 "metadata": {
  "kernelspec": {
   "display_name": "Python 3 (ipykernel)",
   "language": "python",
   "name": "python3"
  },
  "language_info": {
   "codemirror_mode": {
    "name": "ipython",
    "version": 3
   },
   "file_extension": ".py",
   "mimetype": "text/x-python",
   "name": "python",
   "nbconvert_exporter": "python",
   "pygments_lexer": "ipython3",
   "version": "3.9.7"
  }
 },
 "nbformat": 4,
 "nbformat_minor": 5
}
