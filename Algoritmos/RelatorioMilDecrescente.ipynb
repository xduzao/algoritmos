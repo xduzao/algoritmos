{
 "cells": [
  {
   "cell_type": "code",
   "execution_count": 1,
   "id": "c5fe1431-231c-42a2-8911-26e15dd1e226",
   "metadata": {},
   "outputs": [],
   "source": [
    "import Quick\n",
    "from Bubble import bubble_sort\n",
    "from Selection import selection_sort\n",
    "from Insertion import insertion_sort\n",
    "from Merge import merge_sort\n",
    "from Quick import quick_sort\n",
    "from timeit import timeit\n",
    "import random\n",
    "import matplotlib.pyplot as plt"
   ]
  },
  {
   "cell_type": "code",
   "execution_count": 2,
   "id": "79f259ff-948d-49e1-b4fc-9b483c14dde8",
   "metadata": {},
   "outputs": [
    {
     "name": "stdout",
     "output_type": "stream",
     "text": [
      "[336, 973, 216, 129, 542, 132, 262, 637, 735, 465]\n",
      "[0, 1, 3, 4, 6, 7, 8, 8, 8, 9]\n",
      "Vetor em ordem decrescente:\n",
      "[1000, 1000, 1000, 999, 998, 997, 997, 994, 994, 992]\n"
     ]
    }
   ],
   "source": [
    "# Cria o vetor com mil elementos e ordena com o quicksort\n",
    "vetorMil = [random.randint(0, 1000) for _ in range(1000)]\n",
    "print(vetorMil[:10])\n",
    "quick_sort(vetorMil)\n",
    "print(vetorMil[:10])\n",
    "# Salva na mesma variável o vetor em ordem decrescente\n",
    "vetorMil = vetorMil[::-1]\n",
    "print(\"Vetor em ordem decrescente:\")\n",
    "print(vetorMil[:10])"
   ]
  },
  {
   "cell_type": "markdown",
   "id": "8d7debe8-c178-49c0-857c-f68106d84d1a",
   "metadata": {},
   "source": [
    "# Quicksort\n",
    "---"
   ]
  },
  {
   "cell_type": "code",
   "execution_count": 3,
   "id": "33f7e22c-d2e0-4ea8-82e6-f093a217b7ef",
   "metadata": {},
   "outputs": [
    {
     "name": "stdout",
     "output_type": "stream",
     "text": [
      "0.0007229000000004149\n"
     ]
    }
   ],
   "source": [
    "tempoQuick = timeit('quick_sort(vetorMil.copy())', 'from __main__ import quick_sort, vetorMil', number=1)\n",
    "print(tempoQuick)"
   ]
  },
  {
   "cell_type": "markdown",
   "id": "ac8ab2d4-27a3-410b-aa82-e4d2bc63e70c",
   "metadata": {},
   "source": [
    "# Mergesort\n",
    "---"
   ]
  },
  {
   "cell_type": "code",
   "execution_count": 4,
   "id": "30ee9663-6572-4a64-849d-2682d0be5a32",
   "metadata": {},
   "outputs": [
    {
     "name": "stdout",
     "output_type": "stream",
     "text": [
      "0.0015290000000001136\n"
     ]
    }
   ],
   "source": [
    "tempoMerge = timeit('merge_sort(vetorMil.copy())', 'from __main__ import merge_sort, vetorMil', number=1)\n",
    "print(tempoMerge)"
   ]
  },
  {
   "cell_type": "markdown",
   "id": "e1329996-aec8-49be-9fbe-a8db12cc7e9b",
   "metadata": {},
   "source": [
    "# Selectionsort\n",
    "---"
   ]
  },
  {
   "cell_type": "code",
   "execution_count": 5,
   "id": "a99f49c2-10db-463c-b714-d723074524f4",
   "metadata": {},
   "outputs": [
    {
     "name": "stdout",
     "output_type": "stream",
     "text": [
      "0.0184943999999998\n"
     ]
    }
   ],
   "source": [
    "tempoSelection = timeit('selection_sort(vetorMil.copy())', 'from __main__ import selection_sort, vetorMil', number=1)\n",
    "print(tempoSelection)"
   ]
  },
  {
   "cell_type": "markdown",
   "id": "fadc2edd-c1fa-4db9-8356-eb5bcf820972",
   "metadata": {},
   "source": [
    "# Insertionsort\n",
    "---"
   ]
  },
  {
   "cell_type": "code",
   "execution_count": 6,
   "id": "89a79912-0fa0-42d2-80b4-e48ba1b75162",
   "metadata": {},
   "outputs": [
    {
     "name": "stdout",
     "output_type": "stream",
     "text": [
      "0.035482000000000014\n"
     ]
    }
   ],
   "source": [
    "tempoInsertion = timeit('insertion_sort(vetorMil.copy())', 'from __main__ import insertion_sort, vetorMil', number=1)\n",
    "print(tempoInsertion)"
   ]
  },
  {
   "cell_type": "markdown",
   "id": "3c6b2801-bb3f-4d6f-a113-79b6b48e632a",
   "metadata": {
    "tags": []
   },
   "source": [
    "# Bubblesort\n",
    "---"
   ]
  },
  {
   "cell_type": "code",
   "execution_count": 7,
   "id": "cab37448-e64a-436b-856d-60db023c73f7",
   "metadata": {},
   "outputs": [
    {
     "name": "stdout",
     "output_type": "stream",
     "text": [
      "[1000, 1000, 1000, 999, 998, 997, 997, 994, 994, 992, 992, 992, 991, 988, 987, 986, 985, 985, 985, 981, 981, 980, 980, 980, 978, 978, 977, 976, 976, 975, 973, 973, 973, 971, 970, 970, 970, 967, 967, 966, 963, 958, 958, 957, 957, 956, 955, 954, 953, 953, 953, 953, 952, 951, 950, 950, 949, 947, 945, 945, 945, 944, 943, 943, 942, 938, 937, 936, 936, 935, 935, 935, 935, 934, 933, 933, 933, 933, 932, 931, 931, 930, 929, 929, 928, 925, 925, 924, 924, 923, 923, 922, 921, 920, 920, 919, 918, 917, 917, 917, 916, 914, 914, 914, 913, 912, 912, 909, 907, 906, 906, 905, 904, 904, 903, 900, 899, 897, 897, 896, 896, 894, 893, 891, 891, 889, 888, 888, 886, 883, 883, 881, 881, 880, 880, 879, 878, 875, 875, 874, 873, 873, 872, 872, 867, 866, 865, 864, 864, 863, 861, 861, 860, 858, 858, 854, 853, 852, 852, 852, 851, 851, 850, 849, 849, 849, 848, 848, 847, 847, 844, 844, 843, 842, 842, 841, 841, 840, 839, 839, 838, 838, 837, 836, 836, 835, 834, 832, 832, 832, 830, 830, 829, 827, 826, 825, 823, 819, 818, 816, 816, 816, 816, 816, 815, 815, 815, 814, 814, 813, 813, 813, 813, 813, 813, 811, 810, 809, 808, 806, 805, 804, 800, 800, 799, 799, 798, 798, 796, 796, 796, 795, 795, 793, 789, 788, 787, 786, 786, 784, 784, 783, 782, 782, 780, 780, 775, 774, 774, 774, 773, 769, 766, 764, 764, 763, 762, 762, 760, 760, 759, 759, 756, 756, 754, 752, 752, 752, 751, 749, 748, 748, 747, 745, 745, 745, 744, 744, 743, 743, 743, 741, 739, 738, 735, 734, 733, 732, 731, 728, 728, 728, 726, 726, 725, 725, 724, 724, 724, 722, 722, 720, 716, 715, 711, 709, 707, 707, 706, 706, 706, 705, 704, 702, 700, 698, 697, 697, 696, 695, 694, 693, 693, 693, 692, 692, 691, 690, 687, 687, 685, 682, 682, 682, 681, 680, 678, 675, 675, 675, 675, 674, 667, 667, 665, 665, 664, 663, 660, 659, 658, 658, 655, 654, 654, 654, 649, 648, 646, 646, 645, 642, 641, 640, 638, 638, 637, 636, 634, 630, 630, 629, 628, 625, 623, 623, 623, 621, 620, 619, 619, 619, 618, 618, 617, 617, 616, 612, 611, 611, 610, 610, 607, 607, 607, 606, 605, 604, 602, 602, 601, 601, 598, 597, 596, 596, 594, 593, 590, 589, 588, 586, 586, 580, 580, 580, 579, 578, 575, 575, 574, 573, 571, 571, 570, 567, 566, 565, 565, 564, 564, 564, 563, 558, 557, 557, 556, 550, 550, 549, 548, 548, 547, 547, 543, 542, 541, 541, 541, 540, 537, 537, 536, 534, 534, 533, 532, 530, 529, 529, 529, 526, 526, 525, 525, 524, 524, 522, 522, 519, 519, 515, 514, 513, 513, 512, 512, 512, 510, 510, 509, 508, 506, 505, 505, 505, 504, 504, 504, 503, 503, 502, 502, 500, 500, 499, 499, 498, 498, 497, 497, 497, 493, 492, 491, 488, 487, 487, 485, 485, 484, 480, 479, 479, 477, 477, 476, 475, 472, 469, 465, 465, 464, 463, 462, 461, 457, 456, 455, 454, 454, 453, 453, 453, 450, 448, 447, 447, 447, 446, 444, 440, 440, 439, 439, 439, 439, 437, 435, 434, 433, 433, 432, 432, 432, 431, 430, 429, 426, 426, 426, 425, 425, 423, 422, 422, 421, 421, 420, 418, 418, 418, 417, 416, 414, 414, 414, 411, 411, 409, 409, 408, 407, 407, 406, 404, 404, 403, 401, 401, 399, 397, 396, 395, 394, 394, 394, 392, 391, 390, 389, 389, 388, 387, 387, 385, 384, 383, 381, 381, 380, 377, 376, 375, 374, 373, 372, 372, 372, 372, 371, 371, 368, 366, 366, 364, 364, 363, 362, 361, 360, 359, 359, 358, 358, 358, 358, 355, 354, 353, 352, 352, 351, 348, 346, 343, 341, 341, 341, 340, 340, 338, 337, 336, 336, 336, 335, 334, 334, 334, 333, 332, 332, 331, 330, 330, 329, 328, 327, 327, 327, 327, 327, 327, 327, 325, 325, 324, 324, 322, 321, 319, 318, 318, 315, 315, 313, 312, 311, 309, 307, 307, 306, 304, 304, 304, 300, 300, 299, 299, 298, 298, 297, 295, 294, 294, 292, 291, 288, 286, 286, 285, 281, 280, 279, 278, 277, 277, 276, 276, 276, 276, 275, 274, 274, 273, 273, 273, 272, 271, 270, 269, 265, 262, 262, 262, 260, 257, 256, 255, 255, 254, 253, 252, 251, 250, 245, 244, 243, 243, 242, 241, 241, 238, 235, 234, 233, 232, 231, 230, 230, 230, 229, 227, 226, 225, 225, 225, 224, 223, 223, 223, 222, 222, 221, 221, 220, 219, 219, 217, 216, 215, 214, 214, 212, 211, 208, 206, 205, 204, 202, 202, 202, 201, 201, 197, 196, 196, 196, 196, 194, 193, 191, 190, 188, 187, 186, 186, 185, 184, 184, 180, 180, 179, 178, 178, 176, 175, 174, 173, 172, 172, 172, 171, 171, 170, 169, 169, 169, 169, 167, 167, 166, 161, 160, 160, 159, 157, 157, 154, 153, 152, 151, 147, 146, 145, 144, 143, 142, 141, 141, 137, 136, 134, 134, 134, 134, 133, 132, 131, 131, 130, 129, 128, 127, 127, 126, 126, 126, 125, 125, 123, 122, 121, 119, 119, 118, 116, 114, 113, 112, 112, 111, 111, 109, 105, 105, 105, 105, 104, 104, 104, 104, 103, 101, 101, 101, 101, 98, 98, 97, 95, 94, 92, 91, 91, 91, 90, 90, 89, 89, 88, 84, 83, 81, 80, 80, 78, 77, 77, 77, 77, 77, 76, 74, 71, 70, 69, 68, 66, 66, 64, 64, 63, 63, 62, 60, 60, 59, 59, 58, 58, 57, 55, 55, 54, 52, 49, 49, 48, 47, 47, 46, 45, 41, 41, 40, 40, 40, 39, 36, 36, 35, 33, 31, 31, 31, 31, 28, 28, 27, 27, 27, 25, 24, 22, 21, 20, 20, 18, 18, 16, 14, 14, 13, 11, 11, 10, 10, 9, 9, 8, 8, 8, 7, 6, 4, 3, 1, 0]\n",
      "0.07259450000000012\n"
     ]
    }
   ],
   "source": [
    "print(vetorMil)\n",
    "tempoBubble = timeit('bubble_sort(vetorMil.copy())', 'from __main__ import bubble_sort, vetorMil', number=1)\n",
    "print(tempoBubble)"
   ]
  },
  {
   "cell_type": "markdown",
   "id": "861fb4dd-8b17-48c0-8560-4a6ea1aa2011",
   "metadata": {},
   "source": [
    "# Relatórios Vetor Decrescente\n",
    "---"
   ]
  },
  {
   "cell_type": "code",
   "execution_count": 8,
   "id": "458e1693-8b71-42e2-ac74-470b8c11b7ed",
   "metadata": {},
   "outputs": [
    {
     "data": {
      "image/png": "[encoded data removed]",
      "text/plain": [
       "<Figure size 432x288 with 1 Axes>"
      ]
     },
     "metadata": {
      "needs_background": "light"
     },
     "output_type": "display_data"
    }
   ],
   "source": [
    "listX = ['Quick','Merge', 'Selection', 'Insertion', 'Bubble']\n",
    "listY = [tempoQuick,tempoMerge,tempoSelection, tempoInsertion, tempoBubble ]\n",
    "plt.bar(listX, listY)\n",
    "plt.title('Comparativo de tempo vetor de tamanho 1.000 em ordem decrescente')\n",
    "plt.xlabel('Algoritmos')\n",
    "plt.ylabel('Tempo (s)')\n",
    "plt.show()"
   ]
  }
 ],
 "metadata": {
  "kernelspec": {
   "display_name": "Python 3 (ipykernel)",
   "language": "python",
   "name": "python3"
  },
  "language_info": {
   "codemirror_mode": {
    "name": "ipython",
    "version": 3
   },
   "file_extension": ".py",
   "mimetype": "text/x-python",
   "name": "python",
   "nbconvert_exporter": "python",
   "pygments_lexer": "ipython3",
   "version": "3.9.6"
  }
 },
 "nbformat": 4,
 "nbformat_minor": 5
}
