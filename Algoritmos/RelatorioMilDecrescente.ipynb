{
 "cells": [
  {
   "cell_type": "code",
   "execution_count": 1,
   "id": "c5fe1431-231c-42a2-8911-26e15dd1e226",
   "metadata": {},
   "outputs": [],
   "source": [
    "import Quick\n",
    "from Bubble import bubble_sort\n",
    "from Selection import selection_sort\n",
    "from Insertion import insertion_sort\n",
    "from Merge import merge_sort\n",
    "from Quick import quick_sort\n",
    "from timeit import timeit\n",
    "import random\n",
    "import matplotlib.pyplot as plt"
   ]
  },
  {
   "cell_type": "code",
   "execution_count": 2,
   "id": "79f259ff-948d-49e1-b4fc-9b483c14dde8",
   "metadata": {},
   "outputs": [
    {
     "name": "stdout",
     "output_type": "stream",
     "text": [
      "[508, 862, 322, 58, 625, 129, 409, 999, 667, 862]\n",
      "[0, 1, 3, 7, 9, 10, 11, 12, 13, 14]\n",
      "Vetor em ordem decrescente:\n",
      "[1000, 999, 999, 999, 997, 997, 996, 993, 992, 991]\n"
     ]
    }
   ],
   "source": [
    "# Cria o vetor com mil elementos e ordena com o quicksort\n",
    "vetorMil = [random.randint(0, 1000) for _ in range(1000)]\n",
    "print(vetorMil[:10])\n",
    "quick_sort(vetorMil)\n",
    "print(vetorMil[:10])\n",
    "# Salva na mesma variável o vetor em ordem decrescente\n",
    "vetorMil = vetorMil[::-1]\n",
    "print(\"Vetor em ordem decrescente:\")\n",
    "print(vetorMil[:10])"
   ]
  },
  {
   "cell_type": "markdown",
   "id": "8d7debe8-c178-49c0-857c-f68106d84d1a",
   "metadata": {},
   "source": [
    "# Quicksort\n",
    "---"
   ]
  },
  {
   "cell_type": "code",
   "execution_count": 3,
   "id": "33f7e22c-d2e0-4ea8-82e6-f093a217b7ef",
   "metadata": {},
   "outputs": [
    {
     "name": "stdout",
     "output_type": "stream",
     "text": [
      "0.0006662970000000002\n"
     ]
    }
   ],
   "source": [
    "tempoQuick = timeit('quick_sort(vetorMil.copy())', 'from __main__ import quick_sort, vetorMil', number=100)/100\n",
    "print(tempoQuick)"
   ]
  },
  {
   "cell_type": "markdown",
   "id": "ac8ab2d4-27a3-410b-aa82-e4d2bc63e70c",
   "metadata": {},
   "source": [
    "# Mergesort\n",
    "---"
   ]
  },
  {
   "cell_type": "code",
   "execution_count": 4,
   "id": "30ee9663-6572-4a64-849d-2682d0be5a32",
   "metadata": {},
   "outputs": [
    {
     "name": "stdout",
     "output_type": "stream",
     "text": [
      "0.001345474000000002\n"
     ]
    }
   ],
   "source": [
    "tempoMerge = timeit('merge_sort(vetorMil.copy())', 'from __main__ import merge_sort, vetorMil', number=100)/100\n",
    "print(tempoMerge)"
   ]
  },
  {
   "cell_type": "markdown",
   "id": "e1329996-aec8-49be-9fbe-a8db12cc7e9b",
   "metadata": {},
   "source": [
    "# Selectionsort\n",
    "---"
   ]
  },
  {
   "cell_type": "code",
   "execution_count": 5,
   "id": "a99f49c2-10db-463c-b714-d723074524f4",
   "metadata": {},
   "outputs": [
    {
     "name": "stdout",
     "output_type": "stream",
     "text": [
      "0.015120318000000004\n"
     ]
    }
   ],
   "source": [
    "tempoSelection = timeit('selection_sort(vetorMil.copy())', 'from __main__ import selection_sort, vetorMil', number=100)/100\n",
    "print(tempoSelection)"
   ]
  },
  {
   "cell_type": "markdown",
   "id": "fadc2edd-c1fa-4db9-8356-eb5bcf820972",
   "metadata": {},
   "source": [
    "# Insertionsort\n",
    "---"
   ]
  },
  {
   "cell_type": "code",
   "execution_count": 6,
   "id": "89a79912-0fa0-42d2-80b4-e48ba1b75162",
   "metadata": {},
   "outputs": [
    {
     "name": "stdout",
     "output_type": "stream",
     "text": [
      "0.03236441300000001\n"
     ]
    }
   ],
   "source": [
    "tempoInsertion = timeit('insertion_sort(vetorMil.copy())', 'from __main__ import insertion_sort, vetorMil', number=100)/100\n",
    "print(tempoInsertion)"
   ]
  },
  {
   "cell_type": "markdown",
   "id": "3c6b2801-bb3f-4d6f-a113-79b6b48e632a",
   "metadata": {
    "tags": []
   },
   "source": [
    "# Bubblesort\n",
    "---"
   ]
  },
  {
   "cell_type": "code",
   "execution_count": 7,
   "id": "cab37448-e64a-436b-856d-60db023c73f7",
   "metadata": {},
   "outputs": [
    {
     "name": "stdout",
     "output_type": "stream",
     "text": [
      "[1000, 999, 999, 999, 997, 997, 996, 993, 992, 991, 990, 990, 988, 988, 988, 987, 987, 986, 983, 983, 982, 981, 981, 980, 979, 979, 978, 978, 978, 976, 975, 974, 974, 973, 973, 972, 971, 970, 970, 969, 966, 964, 962, 962, 961, 961, 956, 955, 955, 954, 950, 950, 947, 946, 944, 944, 943, 942, 939, 939, 938, 936, 936, 936, 935, 934, 933, 933, 932, 931, 930, 930, 929, 928, 928, 923, 923, 922, 922, 922, 920, 918, 917, 916, 916, 914, 912, 912, 911, 911, 909, 909, 909, 908, 907, 905, 904, 904, 900, 897, 893, 891, 891, 890, 887, 887, 886, 886, 885, 885, 884, 884, 880, 880, 879, 879, 879, 878, 877, 877, 875, 874, 874, 873, 870, 870, 868, 867, 867, 867, 866, 866, 865, 863, 863, 862, 862, 862, 861, 860, 860, 860, 858, 858, 858, 857, 857, 857, 856, 855, 855, 854, 853, 851, 850, 849, 849, 849, 849, 846, 844, 843, 843, 838, 837, 835, 834, 834, 833, 833, 833, 832, 832, 830, 829, 827, 827, 826, 825, 823, 822, 817, 815, 814, 813, 812, 812, 812, 811, 810, 809, 809, 807, 807, 804, 804, 802, 802, 801, 800, 800, 799, 798, 798, 797, 794, 793, 791, 789, 789, 788, 788, 787, 781, 781, 778, 778, 776, 776, 774, 773, 773, 772, 772, 770, 770, 769, 769, 767, 763, 761, 760, 759, 758, 755, 755, 755, 753, 752, 749, 745, 744, 744, 744, 743, 742, 742, 742, 741, 740, 740, 738, 737, 737, 733, 733, 731, 731, 730, 729, 727, 726, 726, 725, 725, 724, 722, 722, 721, 720, 720, 719, 719, 718, 717, 717, 707, 707, 707, 705, 704, 704, 704, 700, 699, 699, 698, 698, 698, 697, 695, 694, 693, 693, 693, 692, 692, 689, 687, 685, 685, 685, 683, 683, 683, 682, 682, 679, 679, 676, 676, 676, 676, 675, 674, 673, 673, 672, 672, 671, 671, 668, 667, 665, 665, 664, 664, 661, 659, 658, 657, 657, 657, 656, 655, 654, 653, 650, 650, 649, 647, 647, 647, 646, 645, 645, 644, 641, 639, 635, 634, 634, 633, 633, 632, 632, 631, 630, 626, 626, 625, 625, 623, 623, 620, 619, 619, 618, 618, 617, 617, 616, 615, 615, 614, 613, 613, 612, 610, 608, 608, 608, 607, 606, 606, 606, 604, 602, 602, 601, 601, 599, 599, 598, 598, 597, 597, 596, 592, 592, 592, 591, 591, 591, 588, 587, 587, 585, 584, 583, 582, 582, 582, 580, 580, 579, 576, 576, 573, 572, 571, 571, 570, 569, 567, 566, 566, 565, 565, 565, 564, 564, 564, 564, 563, 558, 556, 555, 555, 548, 546, 546, 545, 543, 543, 541, 541, 540, 540, 540, 539, 536, 536, 536, 536, 535, 534, 534, 534, 533, 533, 531, 531, 530, 529, 528, 526, 525, 522, 521, 521, 520, 520, 520, 519, 519, 518, 517, 517, 517, 517, 516, 515, 512, 510, 509, 508, 508, 507, 503, 501, 500, 500, 499, 497, 496, 494, 494, 493, 490, 490, 490, 489, 489, 488, 488, 487, 487, 486, 485, 484, 484, 482, 481, 481, 480, 480, 479, 479, 477, 473, 472, 472, 472, 472, 471, 469, 468, 468, 468, 468, 468, 467, 465, 463, 461, 461, 460, 460, 458, 455, 455, 454, 454, 452, 451, 449, 447, 446, 445, 444, 443, 443, 442, 441, 441, 441, 439, 438, 438, 438, 437, 434, 433, 432, 432, 431, 429, 429, 428, 428, 425, 425, 425, 421, 421, 418, 416, 414, 414, 414, 413, 412, 411, 411, 411, 410, 410, 409, 409, 408, 408, 407, 407, 407, 406, 404, 404, 403, 401, 399, 398, 397, 396, 391, 390, 387, 386, 386, 385, 385, 385, 383, 382, 381, 380, 380, 379, 379, 379, 378, 377, 375, 375, 375, 373, 372, 371, 369, 369, 368, 368, 365, 364, 363, 363, 363, 362, 361, 360, 354, 354, 352, 351, 351, 350, 350, 350, 350, 349, 349, 349, 346, 346, 345, 345, 344, 342, 342, 342, 342, 341, 341, 340, 340, 340, 340, 339, 339, 338, 336, 335, 335, 331, 331, 330, 330, 328, 328, 325, 322, 322, 322, 322, 321, 321, 320, 319, 317, 317, 317, 317, 316, 316, 315, 315, 314, 313, 311, 311, 310, 309, 309, 307, 307, 305, 303, 300, 299, 298, 297, 295, 295, 295, 295, 293, 293, 292, 292, 290, 290, 289, 288, 287, 286, 285, 281, 280, 280, 280, 279, 277, 276, 275, 275, 273, 273, 273, 272, 271, 271, 271, 269, 268, 267, 267, 266, 265, 265, 264, 264, 263, 261, 260, 260, 258, 258, 256, 255, 255, 252, 252, 250, 248, 247, 245, 245, 244, 243, 243, 243, 243, 242, 240, 240, 240, 238, 238, 237, 237, 234, 233, 232, 232, 231, 228, 228, 227, 226, 225, 220, 219, 218, 217, 216, 216, 215, 215, 213, 211, 211, 210, 210, 209, 207, 207, 207, 203, 201, 200, 200, 199, 199, 197, 195, 192, 191, 188, 185, 184, 183, 183, 182, 178, 178, 174, 174, 174, 173, 169, 168, 168, 167, 164, 161, 160, 160, 158, 157, 157, 157, 157, 155, 154, 153, 152, 151, 148, 147, 146, 144, 144, 143, 142, 142, 138, 137, 137, 136, 136, 136, 134, 134, 133, 133, 131, 130, 129, 129, 129, 128, 128, 127, 125, 124, 122, 122, 121, 121, 120, 120, 119, 118, 117, 116, 116, 115, 114, 114, 113, 108, 108, 106, 105, 103, 102, 100, 100, 98, 97, 96, 96, 96, 95, 95, 95, 95, 94, 93, 93, 90, 89, 89, 89, 88, 87, 85, 82, 81, 81, 80, 78, 76, 74, 71, 71, 71, 69, 67, 67, 67, 67, 65, 64, 64, 64, 63, 62, 61, 61, 60, 59, 59, 58, 58, 57, 56, 55, 50, 46, 44, 44, 43, 43, 42, 41, 41, 40, 39, 39, 38, 36, 36, 34, 32, 30, 30, 29, 29, 28, 27, 26, 25, 24, 24, 23, 23, 22, 22, 22, 22, 22, 21, 21, 20, 18, 17, 17, 16, 14, 14, 13, 12, 11, 10, 9, 7, 3, 1, 0]\n",
      "0.08197019699999998\n"
     ]
    }
   ],
   "source": [
    "print(vetorMil)\n",
    "tempoBubble = timeit('bubble_sort(vetorMil.copy())', 'from __main__ import bubble_sort, vetorMil', number=100)/100\n",
    "print(tempoBubble)"
   ]
  },
  {
   "cell_type": "markdown",
   "id": "861fb4dd-8b17-48c0-8560-4a6ea1aa2011",
   "metadata": {},
   "source": [
    "# Relatórios Vetor Aleatório\n",
    "---"
   ]
  },
  {
   "cell_type": "code",
   "execution_count": 8,
   "id": "458e1693-8b71-42e2-ac74-470b8c11b7ed",
   "metadata": {},
   "outputs": [
    {
     "data": {
      "image/png": "[encoded data removed]",
      "text/plain": [
       "<Figure size 432x288 with 1 Axes>"
      ]
     },
     "metadata": {
      "needs_background": "light"
     },
     "output_type": "display_data"
    }
   ],
   "source": [
    "listX = ['Quick','Merge', 'Selection', 'Insertion', 'Bubble']\n",
    "listY = [tempoQuick,tempoMerge,tempoSelection, tempoInsertion, tempoBubble ]\n",
    "plt.bar(listX, listY)\n",
    "plt.title('Comparativo de tempo vetor de tamanho 1.000 em ordem decrescente')\n",
    "plt.xlabel('Algoritmos')\n",
    "plt.ylabel('Tempo (s)')\n",
    "plt.show()"
   ]
  }
 ],
 "metadata": {
  "kernelspec": {
   "display_name": "Python 3 (ipykernel)",
   "language": "python",
   "name": "python3"
  },
  "language_info": {
   "codemirror_mode": {
    "name": "ipython",
    "version": 3
   },
   "file_extension": ".py",
   "mimetype": "text/x-python",
   "name": "python",
   "nbconvert_exporter": "python",
   "pygments_lexer": "ipython3",
   "version": "3.9.6"
  }
 },
 "nbformat": 4,
 "nbformat_minor": 5
}
