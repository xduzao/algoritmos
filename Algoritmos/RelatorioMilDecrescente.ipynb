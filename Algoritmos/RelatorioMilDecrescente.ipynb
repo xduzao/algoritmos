{
 "cells": [
  {
   "cell_type": "code",
   "execution_count": 1,
   "id": "c5fe1431-231c-42a2-8911-26e15dd1e226",
   "metadata": {},
   "outputs": [],
   "source": [
    "import Quick\n",
    "from Bubble import bubble_sort\n",
    "from Selection import selection_sort\n",
    "from Insertion import insertion_sort\n",
    "from Merge import merge_sort\n",
    "from Quick import quick_sort\n",
    "from timeit import timeit\n",
    "import random\n",
    "import matplotlib.pyplot as plt"
   ]
  },
  {
   "cell_type": "code",
   "execution_count": 2,
   "id": "79f259ff-948d-49e1-b4fc-9b483c14dde8",
   "metadata": {},
   "outputs": [
    {
     "name": "stdout",
     "output_type": "stream",
     "text": [
      "[731, 619, 53, 15, 542, 947, 984, 853, 100, 307]\n",
      "[0, 2, 5, 7, 9, 14, 15, 16, 18, 19]\n",
      "Vetor em ordem decrescente:\n",
      "[1000, 1000, 1000, 999, 998, 998, 996, 996, 994, 992]\n"
     ]
    }
   ],
   "source": [
    "# Cria o vetor com mil elementos e ordena com o quicksort\n",
    "vetorMil = [random.randint(0, 1000) for _ in range(1000)]\n",
    "print(vetorMil[:10])\n",
    "quick_sort(vetorMil)\n",
    "print(vetorMil[:10])\n",
    "# Salva na mesma variável o vetor em ordem decrescente\n",
    "vetorMil = vetorMil[::-1]\n",
    "print(\"Vetor em ordem decrescente:\")\n",
    "print(vetorMil[:10])"
   ]
  },
  {
   "cell_type": "markdown",
   "id": "8d7debe8-c178-49c0-857c-f68106d84d1a",
   "metadata": {},
   "source": [
    "# Quicksort\n",
    "---"
   ]
  },
  {
   "cell_type": "code",
   "execution_count": 3,
   "id": "33f7e22c-d2e0-4ea8-82e6-f093a217b7ef",
   "metadata": {},
   "outputs": [
    {
     "name": "stdout",
     "output_type": "stream",
     "text": [
      "0.0009560809999999975\n"
     ]
    }
   ],
   "source": [
    "tempoQuick = timeit('quick_sort(vetorMil.copy())', 'from __main__ import quick_sort, vetorMil', number=100)/100\n",
    "print(tempoQuick)"
   ]
  },
  {
   "cell_type": "markdown",
   "id": "ac8ab2d4-27a3-410b-aa82-e4d2bc63e70c",
   "metadata": {},
   "source": [
    "# Mergesort\n",
    "---"
   ]
  },
  {
   "cell_type": "code",
   "execution_count": 4,
   "id": "30ee9663-6572-4a64-849d-2682d0be5a32",
   "metadata": {},
   "outputs": [
    {
     "name": "stdout",
     "output_type": "stream",
     "text": [
      "0.0017212939999999976\n"
     ]
    }
   ],
   "source": [
    "tempoMerge = timeit('merge_sort(vetorMil.copy())', 'from __main__ import merge_sort, vetorMil', number=100)/100\n",
    "print(tempoMerge)"
   ]
  },
  {
   "cell_type": "markdown",
   "id": "e1329996-aec8-49be-9fbe-a8db12cc7e9b",
   "metadata": {},
   "source": [
    "# Selectionsort\n",
    "---"
   ]
  },
  {
   "cell_type": "code",
   "execution_count": 5,
   "id": "a99f49c2-10db-463c-b714-d723074524f4",
   "metadata": {},
   "outputs": [
    {
     "name": "stdout",
     "output_type": "stream",
     "text": [
      "0.021587663\n"
     ]
    }
   ],
   "source": [
    "tempoSelection = timeit('selection_sort(vetorMil.copy())', 'from __main__ import selection_sort, vetorMil', number=100)/100\n",
    "print(tempoSelection)"
   ]
  },
  {
   "cell_type": "markdown",
   "id": "fadc2edd-c1fa-4db9-8356-eb5bcf820972",
   "metadata": {},
   "source": [
    "# Insertionsort\n",
    "---"
   ]
  },
  {
   "cell_type": "code",
   "execution_count": 6,
   "id": "89a79912-0fa0-42d2-80b4-e48ba1b75162",
   "metadata": {},
   "outputs": [
    {
     "name": "stdout",
     "output_type": "stream",
     "text": [
      "0.043903645\n"
     ]
    }
   ],
   "source": [
    "tempoInsertion = timeit('insertion_sort(vetorMil.copy())', 'from __main__ import insertion_sort, vetorMil', number=100)/100\n",
    "print(tempoInsertion)"
   ]
  },
  {
   "cell_type": "markdown",
   "id": "3c6b2801-bb3f-4d6f-a113-79b6b48e632a",
   "metadata": {
    "tags": []
   },
   "source": [
    "# Bubblesort\n",
    "---"
   ]
  },
  {
   "cell_type": "code",
   "execution_count": 9,
   "id": "cab37448-e64a-436b-856d-60db023c73f7",
   "metadata": {},
   "outputs": [
    {
     "name": "stdout",
     "output_type": "stream",
     "text": [
      "[1000, 1000, 1000, 999, 998, 998, 996, 996, 994, 992, 991, 990, 990, 990, 988, 987, 987, 987, 985, 985, 984, 983, 983, 983, 982, 982, 982, 981, 980, 975, 974, 973, 973, 971, 969, 967, 966, 966, 965, 963, 961, 961, 961, 961, 961, 961, 960, 960, 959, 958, 958, 958, 958, 958, 957, 957, 955, 954, 954, 953, 950, 949, 949, 949, 948, 948, 947, 945, 944, 944, 944, 942, 940, 937, 937, 936, 933, 932, 931, 930, 928, 928, 927, 926, 925, 923, 923, 923, 920, 920, 919, 919, 917, 917, 916, 915, 915, 915, 914, 914, 914, 913, 913, 912, 912, 911, 910, 909, 909, 908, 908, 907, 906, 906, 904, 900, 900, 899, 899, 898, 898, 898, 897, 897, 896, 895, 895, 894, 892, 892, 891, 891, 889, 889, 888, 886, 885, 885, 884, 882, 882, 881, 880, 880, 879, 879, 878, 877, 875, 875, 875, 873, 873, 873, 873, 871, 868, 866, 864, 864, 863, 861, 860, 859, 859, 858, 858, 857, 857, 857, 856, 853, 852, 852, 851, 850, 850, 846, 843, 841, 838, 837, 836, 833, 832, 831, 830, 829, 829, 828, 828, 828, 827, 825, 824, 824, 821, 821, 820, 820, 817, 811, 810, 808, 806, 805, 803, 803, 802, 802, 801, 800, 800, 799, 799, 797, 797, 796, 795, 794, 793, 791, 791, 791, 790, 789, 789, 788, 788, 787, 784, 781, 781, 779, 779, 779, 779, 778, 776, 775, 774, 773, 773, 772, 768, 768, 767, 763, 763, 763, 762, 761, 760, 760, 760, 759, 759, 758, 756, 755, 755, 755, 755, 754, 754, 754, 754, 753, 752, 752, 750, 748, 746, 746, 744, 743, 743, 743, 733, 731, 728, 726, 725, 724, 724, 723, 723, 722, 720, 719, 717, 717, 716, 714, 713, 712, 712, 712, 710, 709, 709, 704, 704, 701, 700, 698, 697, 697, 696, 696, 694, 694, 694, 692, 691, 691, 691, 690, 690, 689, 688, 688, 685, 684, 684, 683, 681, 679, 677, 677, 676, 675, 674, 674, 674, 672, 668, 667, 667, 663, 663, 662, 661, 658, 657, 656, 652, 652, 650, 650, 650, 649, 648, 647, 646, 645, 644, 643, 642, 641, 640, 639, 638, 638, 636, 634, 632, 631, 631, 630, 627, 625, 625, 625, 625, 624, 624, 623, 622, 621, 620, 619, 619, 617, 613, 611, 610, 609, 609, 607, 607, 606, 605, 603, 603, 602, 598, 596, 594, 593, 592, 591, 589, 587, 587, 586, 586, 586, 586, 586, 584, 583, 581, 581, 580, 579, 578, 576, 575, 575, 574, 572, 572, 572, 571, 571, 569, 568, 568, 567, 567, 566, 566, 565, 564, 563, 562, 561, 559, 559, 558, 558, 558, 558, 557, 556, 555, 554, 554, 553, 553, 553, 553, 551, 550, 548, 548, 544, 542, 542, 542, 541, 540, 538, 538, 537, 536, 536, 536, 533, 533, 532, 528, 528, 528, 527, 526, 526, 525, 525, 525, 525, 519, 519, 519, 514, 512, 511, 507, 507, 506, 506, 503, 502, 502, 498, 497, 497, 497, 496, 495, 495, 494, 494, 493, 490, 489, 486, 486, 484, 482, 482, 482, 482, 480, 480, 480, 478, 476, 476, 472, 470, 470, 469, 467, 467, 467, 466, 465, 465, 465, 465, 464, 463, 463, 462, 460, 460, 455, 455, 454, 453, 451, 450, 450, 450, 449, 449, 448, 447, 447, 446, 442, 441, 441, 440, 439, 437, 437, 437, 436, 436, 435, 434, 434, 434, 433, 433, 432, 431, 429, 428, 427, 426, 426, 425, 425, 424, 423, 421, 421, 421, 420, 420, 419, 419, 416, 416, 415, 415, 415, 414, 412, 411, 410, 410, 410, 409, 408, 407, 405, 405, 405, 403, 402, 402, 400, 400, 397, 397, 395, 395, 394, 393, 393, 391, 383, 382, 382, 378, 378, 377, 377, 376, 372, 372, 371, 371, 369, 369, 368, 366, 365, 365, 365, 362, 362, 361, 360, 359, 359, 359, 359, 358, 357, 355, 355, 354, 354, 352, 352, 352, 351, 348, 348, 348, 347, 347, 347, 344, 344, 343, 341, 341, 337, 336, 336, 334, 334, 333, 333, 332, 330, 329, 329, 329, 328, 328, 327, 325, 325, 325, 324, 321, 319, 315, 315, 315, 314, 314, 313, 313, 309, 309, 307, 307, 307, 307, 306, 305, 304, 303, 301, 300, 300, 299, 297, 297, 296, 296, 296, 296, 295, 294, 292, 288, 287, 286, 284, 283, 283, 282, 281, 281, 281, 280, 279, 278, 275, 273, 273, 273, 272, 272, 271, 270, 267, 267, 267, 266, 265, 265, 264, 264, 264, 263, 262, 261, 260, 258, 258, 255, 254, 252, 252, 251, 249, 248, 248, 248, 248, 248, 247, 247, 246, 245, 242, 242, 242, 241, 239, 239, 239, 238, 238, 238, 237, 236, 234, 233, 232, 232, 231, 231, 230, 228, 226, 226, 226, 225, 224, 224, 224, 223, 223, 222, 220, 218, 217, 215, 213, 213, 212, 211, 211, 210, 210, 210, 210, 210, 209, 207, 204, 204, 203, 203, 201, 200, 199, 199, 193, 192, 192, 192, 191, 189, 186, 185, 185, 185, 185, 185, 183, 183, 181, 181, 181, 180, 180, 179, 178, 177, 177, 176, 175, 174, 173, 170, 168, 167, 167, 167, 166, 165, 163, 163, 162, 162, 161, 160, 159, 158, 156, 155, 151, 149, 148, 147, 147, 147, 146, 146, 146, 139, 138, 138, 138, 136, 136, 134, 133, 133, 133, 133, 132, 130, 130, 130, 130, 129, 128, 127, 124, 124, 122, 121, 119, 116, 115, 115, 114, 109, 109, 108, 107, 107, 106, 104, 104, 103, 102, 101, 100, 100, 99, 99, 97, 95, 93, 91, 91, 90, 89, 86, 86, 85, 83, 82, 81, 79, 79, 79, 78, 76, 73, 71, 69, 68, 68, 67, 61, 61, 60, 60, 59, 59, 59, 58, 57, 56, 56, 55, 55, 54, 54, 54, 53, 52, 51, 51, 48, 48, 45, 45, 44, 44, 41, 40, 39, 37, 35, 34, 34, 33, 33, 31, 30, 28, 27, 27, 27, 25, 25, 24, 24, 22, 22, 21, 21, 19, 19, 18, 16, 15, 14, 9, 7, 5, 2, 0]\n",
      "0.09621849099999963\n"
     ]
    }
   ],
   "source": [
    "print(vetorMil)\n",
    "tempoBubble = timeit('bubble_sort(vetorMil.copy())', 'from __main__ import bubble_sort, vetorMil', number=100)/100\n",
    "print(tempoBubble)"
   ]
  },
  {
   "cell_type": "markdown",
   "id": "861fb4dd-8b17-48c0-8560-4a6ea1aa2011",
   "metadata": {},
   "source": [
    "# Relatórios Vetor Aleatório\n",
    "---"
   ]
  },
  {
   "cell_type": "code",
   "execution_count": 8,
   "id": "458e1693-8b71-42e2-ac74-470b8c11b7ed",
   "metadata": {},
   "outputs": [
    {
     "data": {
      "image/png": "[encoded data removed]",
      "text/plain": [
       "<Figure size 432x288 with 1 Axes>"
      ]
     },
     "metadata": {
      "needs_background": "light"
     },
     "output_type": "display_data"
    }
   ],
   "source": [
    "listX = ['Quick','Merge', 'Selection', 'Insertion', 'Bubble']\n",
    "listY = [tempoQuick,tempoMerge,tempoSelection, tempoInsertion, tempoBubble ]\n",
    "plt.bar(listX, listY)\n",
    "plt.title('Comparativo de tempo vetor de tamanho 1.000 em ordem decrescente')\n",
    "plt.xlabel('Algoritmos')\n",
    "plt.ylabel('Tempo (s)')\n",
    "plt.show()"
   ]
  }
 ],
 "metadata": {
  "kernelspec": {
   "display_name": "Python 3 (ipykernel)",
   "language": "python",
   "name": "python3"
  },
  "language_info": {
   "codemirror_mode": {
    "name": "ipython",
    "version": 3
   },
   "file_extension": ".py",
   "mimetype": "text/x-python",
   "name": "python",
   "nbconvert_exporter": "python",
   "pygments_lexer": "ipython3",
   "version": "3.9.7"
  }
 },
 "nbformat": 4,
 "nbformat_minor": 5
}
