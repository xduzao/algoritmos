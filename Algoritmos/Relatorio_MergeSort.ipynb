{
 "cells": [
  {
   "cell_type": "code",
   "execution_count": 1,
   "id": "c5fe1431-231c-42a2-8911-26e15dd1e226",
   "metadata": {},
   "outputs": [],
   "source": [
    "import Merge\n",
    "from Merge import merge_sort\n",
    "from timeit import timeit\n",
    "import random\n",
    "import matplotlib.pyplot as plt"
   ]
  },
  {
   "cell_type": "code",
   "execution_count": 2,
   "id": "79f259ff-948d-49e1-b4fc-9b483c14dde8",
   "metadata": {},
   "outputs": [
    {
     "name": "stdout",
     "output_type": "stream",
     "text": [
      "[165, 818, 365, 759, 662, 667, 662, 418, 308, 33]\n"
     ]
    }
   ],
   "source": [
    "vetorDezMil = [random.randint(0, 1000) for _ in range(10000)]\n",
    "print(vetorDezMil[:10])"
   ]
  },
  {
   "cell_type": "markdown",
   "id": "8d7debe8-c178-49c0-857c-f68106d84d1a",
   "metadata": {},
   "source": [
    "# Vetor Aleatório\n",
    "---"
   ]
  },
  {
   "cell_type": "code",
   "execution_count": 3,
   "id": "33f7e22c-d2e0-4ea8-82e6-f093a217b7ef",
   "metadata": {},
   "outputs": [
    {
     "name": "stdout",
     "output_type": "stream",
     "text": [
      "0.021795400000000242\n"
     ]
    }
   ],
   "source": [
    "tempoAleatorio = timeit('merge_sort(vetorDezMil)', 'from __main__ import merge_sort, vetorDezMil', number=1)\n",
    "print(tempoAleatorio)"
   ]
  },
  {
   "cell_type": "markdown",
   "id": "ac8ab2d4-27a3-410b-aa82-e4d2bc63e70c",
   "metadata": {},
   "source": [
    "# Vetor Ordenado\n",
    "---"
   ]
  },
  {
   "cell_type": "code",
   "execution_count": 4,
   "id": "30ee9663-6572-4a64-849d-2682d0be5a32",
   "metadata": {},
   "outputs": [
    {
     "name": "stdout",
     "output_type": "stream",
     "text": [
      "0.017274700000000198\n",
      "[0, 0, 0, 0, 0, 0, 0, 0, 0, 1]\n"
     ]
    }
   ],
   "source": [
    "vetorDezMil = merge_sort(vetorDezMil)\n",
    "tempoOrdenado = timeit('merge_sort(vetorDezMil)', 'from __main__ import merge_sort, vetorDezMil', number=1)\n",
    "print(tempoOrdenado)\n",
    "print(vetorDezMil[:10])"
   ]
  },
  {
   "cell_type": "markdown",
   "id": "e1329996-aec8-49be-9fbe-a8db12cc7e9b",
   "metadata": {},
   "source": [
    "# Vetor Decrescente\n",
    "---"
   ]
  },
  {
   "cell_type": "code",
   "execution_count": 5,
   "id": "a99f49c2-10db-463c-b714-d723074524f4",
   "metadata": {},
   "outputs": [
    {
     "name": "stdout",
     "output_type": "stream",
     "text": [
      "0.018960600000000216\n"
     ]
    }
   ],
   "source": [
    "vetorDezMil = vetorDezMil[::-1]\n",
    "tempoDecrescente = timeit('merge_sort(vetorDezMil)', 'from __main__ import merge_sort, vetorDezMil', number=1)\n",
    "print(tempoDecrescente)"
   ]
  },
  {
   "cell_type": "markdown",
   "id": "861fb4dd-8b17-48c0-8560-4a6ea1aa2011",
   "metadata": {},
   "source": [
    "# Relatório MergeSort 10 mil\n",
    "---"
   ]
  },
  {
   "cell_type": "code",
   "execution_count": 6,
   "id": "458e1693-8b71-42e2-ac74-470b8c11b7ed",
   "metadata": {},
   "outputs": [
    {
     "data": {
      "image/png": "[encoded data removed]",
      "text/plain": [
       "<Figure size 432x288 with 1 Axes>"
      ]
     },
     "metadata": {
      "needs_background": "light"
     },
     "output_type": "display_data"
    }
   ],
   "source": [
    "listX = ['Aleatório','Ordenado', 'Decrescente']\n",
    "listY = [tempoAleatorio,tempoOrdenado,tempoDecrescente]\n",
    "plt.bar(listX, listY)\n",
    "plt.title('Comparativo de tempo com vetores de 10 mil elementos usando MergeSort')\n",
    "plt.xlabel('Vetores')\n",
    "plt.ylabel('Tempo (s)')\n",
    "plt.show()"
   ]
  },
  {
   "cell_type": "code",
   "execution_count": null,
   "id": "8fda7f28-dc23-4e26-8857-29d26baf894f",
   "metadata": {},
   "outputs": [],
   "source": []
  }
 ],
 "metadata": {
  "kernelspec": {
   "display_name": "Python 3 (ipykernel)",
   "language": "python",
   "name": "python3"
  },
  "language_info": {
   "codemirror_mode": {
    "name": "ipython",
    "version": 3
   },
   "file_extension": ".py",
   "mimetype": "text/x-python",
   "name": "python",
   "nbconvert_exporter": "python",
   "pygments_lexer": "ipython3",
   "version": "3.9.6"
  }
 },
 "nbformat": 4,
 "nbformat_minor": 5
}
